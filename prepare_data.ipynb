{
 "cells": [
  {
   "cell_type": "markdown",
   "metadata": {},
   "source": [
    "# DOJO ML - 3rd Place solution\n",
    "## team : curiosos_do_ml \n",
    "## Mateus C. Pedrino - Bruno Rasteiro - HelloToMyLittleFriend\n",
    "\n",
    "The general goal of this big notebook (merge of each notebook involved in our solution) is to show some baby steps that we used to solve the problem of this competition."
   ]
  },
  {
   "cell_type": "code",
   "execution_count": 42,
   "metadata": {
    "colab": {},
    "colab_type": "code",
    "id": "ovhfu-kydisw"
   },
   "outputs": [],
   "source": [
    "import numpy as np\n",
    "import pandas as pd\n",
    "import seaborn as sns\n",
    "import matplotlib.pyplot as plt"
   ]
  },
  {
   "cell_type": "markdown",
   "metadata": {},
   "source": [
    "## Preparing Data"
   ]
  },
  {
   "cell_type": "markdown",
   "metadata": {
    "colab_type": "text",
    "id": "13jzcyh9dis1"
   },
   "source": [
    "### Params"
   ]
  },
  {
   "cell_type": "code",
   "execution_count": 3,
   "metadata": {
    "colab": {},
    "colab_type": "code",
    "id": "8sGa8fBUdis2"
   },
   "outputs": [],
   "source": [
    "data_type = ['treino', 'teste'][0]\n",
    "days = '0 days' # time window\n",
    "window = pd.Timedelta(days)"
   ]
  },
  {
   "cell_type": "code",
   "execution_count": 4,
   "metadata": {
    "colab": {},
    "colab_type": "code",
    "id": "tBoc8b3Fdis6"
   },
   "outputs": [],
   "source": [
    "if data_type == 'treino':\n",
    "    group_columns = ['maquina', 'data', 'falha']\n",
    "else:\n",
    "    group_columns = ['maquina', 'data', 'index']"
   ]
  },
  {
   "cell_type": "markdown",
   "metadata": {},
   "source": [
    "Once we have an historical data, we created the feature \"window\" so we are able to group features in \"window\" days to generate the feature that is impacting the current day.\n",
    "\n",
    "For instance, imagine we're inputing the training data respective to day 2015-08-07. Sensors data (temperature, pressure, etc) is measured each hour. So what will it be the temperature value in 2015-08-07? We can consider the mean, std, RMS and other grouping operation within \"window\" days to calculate the temperature value for the day. So, if \"window\" = 0 and the grouping operation is mean for temperature feature, the value of temperature in 2015-08-07 will be the mean of each hour temperature in day 2015-08-07. If \"window\" = 3, the value of temperature in 2015-08-07 will be the mean of each hour temperature between days 2015-08-07 and 2015-08-04. We believe that this might help to train the model if the past of the feature impacts the current target variable."
   ]
  },
  {
   "cell_type": "markdown",
   "metadata": {
    "colab_type": "text",
    "id": "_yrYYyIGdis9"
   },
   "source": [
    "### Load data"
   ]
  },
  {
   "cell_type": "code",
   "execution_count": 5,
   "metadata": {},
   "outputs": [],
   "source": [
    "root_path = './'"
   ]
  },
  {
   "cell_type": "code",
   "execution_count": 6,
   "metadata": {
    "colab": {},
    "colab_type": "code",
    "id": "xt7CYl-cdis-"
   },
   "outputs": [],
   "source": [
    "erros = pd.read_csv(root_path + 'erros.csv')\n",
    "info_uso = pd.read_csv(root_path + 'info_uso.csv')\n",
    "maquinas = pd.read_csv(root_path + 'maquinas.csv')\n",
    "dados = pd.read_csv(root_path + '{}.csv'.format(data_type))\n",
    "\n",
    "#treino = pd.read_csv(root_path+'dojoml-saocarlos/treino.csv')\n",
    "#teste = pd.read_csv(root_path+'dojoml-saocarlos/teste.csv')"
   ]
  },
  {
   "cell_type": "code",
   "execution_count": 7,
   "metadata": {},
   "outputs": [
    {
     "data": {
      "text/html": [
       "<div>\n",
       "<style scoped>\n",
       "    .dataframe tbody tr th:only-of-type {\n",
       "        vertical-align: middle;\n",
       "    }\n",
       "\n",
       "    .dataframe tbody tr th {\n",
       "        vertical-align: top;\n",
       "    }\n",
       "\n",
       "    .dataframe thead th {\n",
       "        text-align: right;\n",
       "    }\n",
       "</style>\n",
       "<table border=\"1\" class=\"dataframe\">\n",
       "  <thead>\n",
       "    <tr style=\"text-align: right;\">\n",
       "      <th></th>\n",
       "      <th>data</th>\n",
       "      <th>maquina</th>\n",
       "      <th>voltagem</th>\n",
       "      <th>rotacao</th>\n",
       "      <th>pressao</th>\n",
       "      <th>vibracao</th>\n",
       "    </tr>\n",
       "  </thead>\n",
       "  <tbody>\n",
       "    <tr>\n",
       "      <th>0</th>\n",
       "      <td>2015-01-01 06:00:00</td>\n",
       "      <td>1</td>\n",
       "      <td>176.217853</td>\n",
       "      <td>418.504078</td>\n",
       "      <td>113.077935</td>\n",
       "      <td>45.087686</td>\n",
       "    </tr>\n",
       "    <tr>\n",
       "      <th>1</th>\n",
       "      <td>2015-01-01 07:00:00</td>\n",
       "      <td>1</td>\n",
       "      <td>162.879223</td>\n",
       "      <td>402.747490</td>\n",
       "      <td>95.460525</td>\n",
       "      <td>43.413973</td>\n",
       "    </tr>\n",
       "    <tr>\n",
       "      <th>2</th>\n",
       "      <td>2015-01-01 08:00:00</td>\n",
       "      <td>1</td>\n",
       "      <td>170.989902</td>\n",
       "      <td>527.349825</td>\n",
       "      <td>75.237905</td>\n",
       "      <td>34.178847</td>\n",
       "    </tr>\n",
       "    <tr>\n",
       "      <th>3</th>\n",
       "      <td>2015-01-01 09:00:00</td>\n",
       "      <td>1</td>\n",
       "      <td>162.462833</td>\n",
       "      <td>346.149335</td>\n",
       "      <td>109.248561</td>\n",
       "      <td>41.122144</td>\n",
       "    </tr>\n",
       "    <tr>\n",
       "      <th>4</th>\n",
       "      <td>2015-01-01 10:00:00</td>\n",
       "      <td>1</td>\n",
       "      <td>157.610021</td>\n",
       "      <td>435.376873</td>\n",
       "      <td>111.886648</td>\n",
       "      <td>25.990511</td>\n",
       "    </tr>\n",
       "  </tbody>\n",
       "</table>\n",
       "</div>"
      ],
      "text/plain": [
       "                  data  maquina    voltagem     rotacao     pressao   vibracao\n",
       "0  2015-01-01 06:00:00        1  176.217853  418.504078  113.077935  45.087686\n",
       "1  2015-01-01 07:00:00        1  162.879223  402.747490   95.460525  43.413973\n",
       "2  2015-01-01 08:00:00        1  170.989902  527.349825   75.237905  34.178847\n",
       "3  2015-01-01 09:00:00        1  162.462833  346.149335  109.248561  41.122144\n",
       "4  2015-01-01 10:00:00        1  157.610021  435.376873  111.886648  25.990511"
      ]
     },
     "execution_count": 7,
     "metadata": {},
     "output_type": "execute_result"
    }
   ],
   "source": [
    "info_uso.head()"
   ]
  },
  {
   "cell_type": "code",
   "execution_count": 8,
   "metadata": {
    "colab": {},
    "colab_type": "code",
    "id": "MCzi8WLAditB"
   },
   "outputs": [],
   "source": [
    "# Cast datetime fields to datetime type\n",
    "erros['data'] = pd.to_datetime(erros['data'])\n",
    "info_uso['data'] = pd.to_datetime(info_uso['data'])\n",
    "dados['data'] = pd.to_datetime(dados['data'])"
   ]
  },
  {
   "cell_type": "markdown",
   "metadata": {
    "colab_type": "text",
    "id": "v5awtEcxditY"
   },
   "source": [
    "## Generating database"
   ]
  },
  {
   "cell_type": "markdown",
   "metadata": {},
   "source": [
    "### Merge dados with maquinas => df_maquinas"
   ]
  },
  {
   "cell_type": "code",
   "execution_count": 9,
   "metadata": {},
   "outputs": [
    {
     "data": {
      "text/html": [
       "<div>\n",
       "<style scoped>\n",
       "    .dataframe tbody tr th:only-of-type {\n",
       "        vertical-align: middle;\n",
       "    }\n",
       "\n",
       "    .dataframe tbody tr th {\n",
       "        vertical-align: top;\n",
       "    }\n",
       "\n",
       "    .dataframe thead th {\n",
       "        text-align: right;\n",
       "    }\n",
       "</style>\n",
       "<table border=\"1\" class=\"dataframe\">\n",
       "  <thead>\n",
       "    <tr style=\"text-align: right;\">\n",
       "      <th></th>\n",
       "      <th>index</th>\n",
       "      <th>maquina</th>\n",
       "      <th>data</th>\n",
       "      <th>falha</th>\n",
       "    </tr>\n",
       "  </thead>\n",
       "  <tbody>\n",
       "    <tr>\n",
       "      <th>0</th>\n",
       "      <td>20012</td>\n",
       "      <td>55</td>\n",
       "      <td>2015-08-10</td>\n",
       "      <td>ok</td>\n",
       "    </tr>\n",
       "    <tr>\n",
       "      <th>1</th>\n",
       "      <td>8002</td>\n",
       "      <td>22</td>\n",
       "      <td>2015-10-28</td>\n",
       "      <td>ok</td>\n",
       "    </tr>\n",
       "    <tr>\n",
       "      <th>2</th>\n",
       "      <td>6190</td>\n",
       "      <td>17</td>\n",
       "      <td>2015-11-18</td>\n",
       "      <td>ok</td>\n",
       "    </tr>\n",
       "    <tr>\n",
       "      <th>3</th>\n",
       "      <td>12536</td>\n",
       "      <td>35</td>\n",
       "      <td>2015-03-12</td>\n",
       "      <td>ok</td>\n",
       "    </tr>\n",
       "    <tr>\n",
       "      <th>4</th>\n",
       "      <td>34478</td>\n",
       "      <td>95</td>\n",
       "      <td>2015-02-04</td>\n",
       "      <td>ok</td>\n",
       "    </tr>\n",
       "  </tbody>\n",
       "</table>\n",
       "</div>"
      ],
      "text/plain": [
       "   index  maquina       data falha\n",
       "0  20012       55 2015-08-10    ok\n",
       "1   8002       22 2015-10-28    ok\n",
       "2   6190       17 2015-11-18    ok\n",
       "3  12536       35 2015-03-12    ok\n",
       "4  34478       95 2015-02-04    ok"
      ]
     },
     "execution_count": 9,
     "metadata": {},
     "output_type": "execute_result"
    }
   ],
   "source": [
    "dados.head()"
   ]
  },
  {
   "cell_type": "code",
   "execution_count": 10,
   "metadata": {},
   "outputs": [
    {
     "data": {
      "text/html": [
       "<div>\n",
       "<style scoped>\n",
       "    .dataframe tbody tr th:only-of-type {\n",
       "        vertical-align: middle;\n",
       "    }\n",
       "\n",
       "    .dataframe tbody tr th {\n",
       "        vertical-align: top;\n",
       "    }\n",
       "\n",
       "    .dataframe thead th {\n",
       "        text-align: right;\n",
       "    }\n",
       "</style>\n",
       "<table border=\"1\" class=\"dataframe\">\n",
       "  <thead>\n",
       "    <tr style=\"text-align: right;\">\n",
       "      <th></th>\n",
       "      <th>maquina</th>\n",
       "      <th>modelo</th>\n",
       "      <th>idade</th>\n",
       "    </tr>\n",
       "  </thead>\n",
       "  <tbody>\n",
       "    <tr>\n",
       "      <th>0</th>\n",
       "      <td>1</td>\n",
       "      <td>model3</td>\n",
       "      <td>18</td>\n",
       "    </tr>\n",
       "    <tr>\n",
       "      <th>1</th>\n",
       "      <td>2</td>\n",
       "      <td>model4</td>\n",
       "      <td>7</td>\n",
       "    </tr>\n",
       "    <tr>\n",
       "      <th>2</th>\n",
       "      <td>3</td>\n",
       "      <td>model3</td>\n",
       "      <td>8</td>\n",
       "    </tr>\n",
       "    <tr>\n",
       "      <th>3</th>\n",
       "      <td>4</td>\n",
       "      <td>model3</td>\n",
       "      <td>7</td>\n",
       "    </tr>\n",
       "    <tr>\n",
       "      <th>4</th>\n",
       "      <td>5</td>\n",
       "      <td>model3</td>\n",
       "      <td>2</td>\n",
       "    </tr>\n",
       "  </tbody>\n",
       "</table>\n",
       "</div>"
      ],
      "text/plain": [
       "   maquina  modelo  idade\n",
       "0        1  model3     18\n",
       "1        2  model4      7\n",
       "2        3  model3      8\n",
       "3        4  model3      7\n",
       "4        5  model3      2"
      ]
     },
     "execution_count": 10,
     "metadata": {},
     "output_type": "execute_result"
    }
   ],
   "source": [
    "maquinas.head()"
   ]
  },
  {
   "cell_type": "markdown",
   "metadata": {},
   "source": [
    "We can merge \"dados\" with \"maquinas\" using maquina (identifies the machine) so we'll be able to add model (modelo) and age (\"idade\") information to our training set. "
   ]
  },
  {
   "cell_type": "code",
   "execution_count": 11,
   "metadata": {
    "colab": {},
    "colab_type": "code",
    "id": "lWFzpZQadita"
   },
   "outputs": [],
   "source": [
    "df_maquinas = pd.merge(dados, maquinas, on='maquina')"
   ]
  },
  {
   "cell_type": "code",
   "execution_count": 12,
   "metadata": {},
   "outputs": [
    {
     "data": {
      "text/html": [
       "<div>\n",
       "<style scoped>\n",
       "    .dataframe tbody tr th:only-of-type {\n",
       "        vertical-align: middle;\n",
       "    }\n",
       "\n",
       "    .dataframe tbody tr th {\n",
       "        vertical-align: top;\n",
       "    }\n",
       "\n",
       "    .dataframe thead th {\n",
       "        text-align: right;\n",
       "    }\n",
       "</style>\n",
       "<table border=\"1\" class=\"dataframe\">\n",
       "  <thead>\n",
       "    <tr style=\"text-align: right;\">\n",
       "      <th></th>\n",
       "      <th>index</th>\n",
       "      <th>maquina</th>\n",
       "      <th>data</th>\n",
       "      <th>falha</th>\n",
       "      <th>modelo</th>\n",
       "      <th>idade</th>\n",
       "    </tr>\n",
       "  </thead>\n",
       "  <tbody>\n",
       "    <tr>\n",
       "      <th>0</th>\n",
       "      <td>20012</td>\n",
       "      <td>55</td>\n",
       "      <td>2015-08-10</td>\n",
       "      <td>ok</td>\n",
       "      <td>model3</td>\n",
       "      <td>17</td>\n",
       "    </tr>\n",
       "    <tr>\n",
       "      <th>1</th>\n",
       "      <td>19938</td>\n",
       "      <td>55</td>\n",
       "      <td>2015-05-28</td>\n",
       "      <td>ok</td>\n",
       "      <td>model3</td>\n",
       "      <td>17</td>\n",
       "    </tr>\n",
       "    <tr>\n",
       "      <th>2</th>\n",
       "      <td>19886</td>\n",
       "      <td>55</td>\n",
       "      <td>2015-04-06</td>\n",
       "      <td>ok</td>\n",
       "      <td>model3</td>\n",
       "      <td>17</td>\n",
       "    </tr>\n",
       "    <tr>\n",
       "      <th>3</th>\n",
       "      <td>20129</td>\n",
       "      <td>55</td>\n",
       "      <td>2015-12-05</td>\n",
       "      <td>ok</td>\n",
       "      <td>model3</td>\n",
       "      <td>17</td>\n",
       "    </tr>\n",
       "    <tr>\n",
       "      <th>4</th>\n",
       "      <td>20101</td>\n",
       "      <td>55</td>\n",
       "      <td>2015-11-07</td>\n",
       "      <td>ok</td>\n",
       "      <td>model3</td>\n",
       "      <td>17</td>\n",
       "    </tr>\n",
       "  </tbody>\n",
       "</table>\n",
       "</div>"
      ],
      "text/plain": [
       "   index  maquina       data falha  modelo  idade\n",
       "0  20012       55 2015-08-10    ok  model3     17\n",
       "1  19938       55 2015-05-28    ok  model3     17\n",
       "2  19886       55 2015-04-06    ok  model3     17\n",
       "3  20129       55 2015-12-05    ok  model3     17\n",
       "4  20101       55 2015-11-07    ok  model3     17"
      ]
     },
     "execution_count": 12,
     "metadata": {},
     "output_type": "execute_result"
    }
   ],
   "source": [
    "df_maquinas.head()"
   ]
  },
  {
   "cell_type": "markdown",
   "metadata": {
    "colab_type": "text",
    "id": "R5Zr6_Eddite"
   },
   "source": [
    "### Merge dados with erros => df_erros"
   ]
  },
  {
   "cell_type": "code",
   "execution_count": 13,
   "metadata": {},
   "outputs": [
    {
     "data": {
      "text/html": [
       "<div>\n",
       "<style scoped>\n",
       "    .dataframe tbody tr th:only-of-type {\n",
       "        vertical-align: middle;\n",
       "    }\n",
       "\n",
       "    .dataframe tbody tr th {\n",
       "        vertical-align: top;\n",
       "    }\n",
       "\n",
       "    .dataframe thead th {\n",
       "        text-align: right;\n",
       "    }\n",
       "</style>\n",
       "<table border=\"1\" class=\"dataframe\">\n",
       "  <thead>\n",
       "    <tr style=\"text-align: right;\">\n",
       "      <th></th>\n",
       "      <th>data</th>\n",
       "      <th>maquina</th>\n",
       "      <th>erro</th>\n",
       "    </tr>\n",
       "  </thead>\n",
       "  <tbody>\n",
       "    <tr>\n",
       "      <th>0</th>\n",
       "      <td>2015-01-03 07:00:00</td>\n",
       "      <td>1</td>\n",
       "      <td>error1</td>\n",
       "    </tr>\n",
       "    <tr>\n",
       "      <th>1</th>\n",
       "      <td>2015-01-03 20:00:00</td>\n",
       "      <td>1</td>\n",
       "      <td>error3</td>\n",
       "    </tr>\n",
       "    <tr>\n",
       "      <th>2</th>\n",
       "      <td>2015-01-04 06:00:00</td>\n",
       "      <td>1</td>\n",
       "      <td>error5</td>\n",
       "    </tr>\n",
       "    <tr>\n",
       "      <th>3</th>\n",
       "      <td>2015-01-10 15:00:00</td>\n",
       "      <td>1</td>\n",
       "      <td>error4</td>\n",
       "    </tr>\n",
       "    <tr>\n",
       "      <th>4</th>\n",
       "      <td>2015-01-22 10:00:00</td>\n",
       "      <td>1</td>\n",
       "      <td>error4</td>\n",
       "    </tr>\n",
       "  </tbody>\n",
       "</table>\n",
       "</div>"
      ],
      "text/plain": [
       "                 data  maquina    erro\n",
       "0 2015-01-03 07:00:00        1  error1\n",
       "1 2015-01-03 20:00:00        1  error3\n",
       "2 2015-01-04 06:00:00        1  error5\n",
       "3 2015-01-10 15:00:00        1  error4\n",
       "4 2015-01-22 10:00:00        1  error4"
      ]
     },
     "execution_count": 13,
     "metadata": {},
     "output_type": "execute_result"
    }
   ],
   "source": [
    "erros.head()"
   ]
  },
  {
   "cell_type": "markdown",
   "metadata": {},
   "source": [
    "First we must observe that the training set, which until now is stored in \"df_maquinas\", doesn't have time information, only date. In order to merge \"error\", we first have to count the number of errors per day and treat the column \"error\" getting its dummies."
   ]
  },
  {
   "cell_type": "code",
   "execution_count": 14,
   "metadata": {
    "colab": {},
    "colab_type": "code",
    "id": "Tds2sImhditf",
    "scrolled": true
   },
   "outputs": [],
   "source": [
    "# group erros per day\n",
    "erros_day = erros.copy()\n",
    "erros_day['data'] = erros_day['data'].apply(lambda x: x.date())\n",
    "\n",
    "erros_day = pd.get_dummies(erros_day, columns=['erro'], prefix='', prefix_sep='')\n",
    "erros_day = erros_day.groupby(['data', 'maquina'], as_index=False).sum()"
   ]
  },
  {
   "cell_type": "code",
   "execution_count": 15,
   "metadata": {},
   "outputs": [
    {
     "data": {
      "text/html": [
       "<div>\n",
       "<style scoped>\n",
       "    .dataframe tbody tr th:only-of-type {\n",
       "        vertical-align: middle;\n",
       "    }\n",
       "\n",
       "    .dataframe tbody tr th {\n",
       "        vertical-align: top;\n",
       "    }\n",
       "\n",
       "    .dataframe thead th {\n",
       "        text-align: right;\n",
       "    }\n",
       "</style>\n",
       "<table border=\"1\" class=\"dataframe\">\n",
       "  <thead>\n",
       "    <tr style=\"text-align: right;\">\n",
       "      <th></th>\n",
       "      <th>data</th>\n",
       "      <th>maquina</th>\n",
       "      <th>error1</th>\n",
       "      <th>error2</th>\n",
       "      <th>error3</th>\n",
       "      <th>error4</th>\n",
       "      <th>error5</th>\n",
       "    </tr>\n",
       "  </thead>\n",
       "  <tbody>\n",
       "    <tr>\n",
       "      <th>0</th>\n",
       "      <td>2015-01-01</td>\n",
       "      <td>10</td>\n",
       "      <td>1</td>\n",
       "      <td>0</td>\n",
       "      <td>0</td>\n",
       "      <td>0</td>\n",
       "      <td>0</td>\n",
       "    </tr>\n",
       "    <tr>\n",
       "      <th>1</th>\n",
       "      <td>2015-01-01</td>\n",
       "      <td>14</td>\n",
       "      <td>0</td>\n",
       "      <td>0</td>\n",
       "      <td>0</td>\n",
       "      <td>1</td>\n",
       "      <td>0</td>\n",
       "    </tr>\n",
       "    <tr>\n",
       "      <th>2</th>\n",
       "      <td>2015-01-01</td>\n",
       "      <td>24</td>\n",
       "      <td>1</td>\n",
       "      <td>0</td>\n",
       "      <td>0</td>\n",
       "      <td>0</td>\n",
       "      <td>0</td>\n",
       "    </tr>\n",
       "    <tr>\n",
       "      <th>3</th>\n",
       "      <td>2015-01-01</td>\n",
       "      <td>42</td>\n",
       "      <td>0</td>\n",
       "      <td>1</td>\n",
       "      <td>0</td>\n",
       "      <td>0</td>\n",
       "      <td>0</td>\n",
       "    </tr>\n",
       "    <tr>\n",
       "      <th>4</th>\n",
       "      <td>2015-01-01</td>\n",
       "      <td>43</td>\n",
       "      <td>0</td>\n",
       "      <td>0</td>\n",
       "      <td>1</td>\n",
       "      <td>0</td>\n",
       "      <td>0</td>\n",
       "    </tr>\n",
       "  </tbody>\n",
       "</table>\n",
       "</div>"
      ],
      "text/plain": [
       "         data  maquina  error1  error2  error3  error4  error5\n",
       "0  2015-01-01       10       1       0       0       0       0\n",
       "1  2015-01-01       14       0       0       0       1       0\n",
       "2  2015-01-01       24       1       0       0       0       0\n",
       "3  2015-01-01       42       0       1       0       0       0\n",
       "4  2015-01-01       43       0       0       1       0       0"
      ]
     },
     "execution_count": 15,
     "metadata": {},
     "output_type": "execute_result"
    }
   ],
   "source": [
    "erros_day.head()"
   ]
  },
  {
   "cell_type": "markdown",
   "metadata": {},
   "source": [
    "Now we're able to merge \"erros\" with \"df_maquinas\" using \"maquina\" as the reference column."
   ]
  },
  {
   "cell_type": "code",
   "execution_count": 16,
   "metadata": {
    "colab": {},
    "colab_type": "code",
    "id": "N34CzQV3ditj",
    "scrolled": false
   },
   "outputs": [],
   "source": [
    "# merge dados with erros\n",
    "merge = pd.merge(dados, erros_day, on='maquina', suffixes=['', '_erro'])\n",
    "merge['data'] = pd.to_datetime(merge['data'])\n",
    "merge['data_erro'] = pd.to_datetime(merge['data_erro'])"
   ]
  },
  {
   "cell_type": "code",
   "execution_count": 17,
   "metadata": {},
   "outputs": [
    {
     "data": {
      "text/html": [
       "<div>\n",
       "<style scoped>\n",
       "    .dataframe tbody tr th:only-of-type {\n",
       "        vertical-align: middle;\n",
       "    }\n",
       "\n",
       "    .dataframe tbody tr th {\n",
       "        vertical-align: top;\n",
       "    }\n",
       "\n",
       "    .dataframe thead th {\n",
       "        text-align: right;\n",
       "    }\n",
       "</style>\n",
       "<table border=\"1\" class=\"dataframe\">\n",
       "  <thead>\n",
       "    <tr style=\"text-align: right;\">\n",
       "      <th></th>\n",
       "      <th>index</th>\n",
       "      <th>maquina</th>\n",
       "      <th>data</th>\n",
       "      <th>falha</th>\n",
       "      <th>data_erro</th>\n",
       "      <th>error1</th>\n",
       "      <th>error2</th>\n",
       "      <th>error3</th>\n",
       "      <th>error4</th>\n",
       "      <th>error5</th>\n",
       "    </tr>\n",
       "  </thead>\n",
       "  <tbody>\n",
       "    <tr>\n",
       "      <th>0</th>\n",
       "      <td>20012</td>\n",
       "      <td>55</td>\n",
       "      <td>2015-08-10</td>\n",
       "      <td>ok</td>\n",
       "      <td>2015-01-14</td>\n",
       "      <td>0</td>\n",
       "      <td>0</td>\n",
       "      <td>0</td>\n",
       "      <td>0</td>\n",
       "      <td>1</td>\n",
       "    </tr>\n",
       "    <tr>\n",
       "      <th>1</th>\n",
       "      <td>20012</td>\n",
       "      <td>55</td>\n",
       "      <td>2015-08-10</td>\n",
       "      <td>ok</td>\n",
       "      <td>2015-01-18</td>\n",
       "      <td>0</td>\n",
       "      <td>0</td>\n",
       "      <td>1</td>\n",
       "      <td>0</td>\n",
       "      <td>0</td>\n",
       "    </tr>\n",
       "    <tr>\n",
       "      <th>2</th>\n",
       "      <td>20012</td>\n",
       "      <td>55</td>\n",
       "      <td>2015-08-10</td>\n",
       "      <td>ok</td>\n",
       "      <td>2015-01-19</td>\n",
       "      <td>1</td>\n",
       "      <td>0</td>\n",
       "      <td>0</td>\n",
       "      <td>0</td>\n",
       "      <td>0</td>\n",
       "    </tr>\n",
       "    <tr>\n",
       "      <th>3</th>\n",
       "      <td>20012</td>\n",
       "      <td>55</td>\n",
       "      <td>2015-08-10</td>\n",
       "      <td>ok</td>\n",
       "      <td>2015-01-31</td>\n",
       "      <td>0</td>\n",
       "      <td>1</td>\n",
       "      <td>0</td>\n",
       "      <td>0</td>\n",
       "      <td>0</td>\n",
       "    </tr>\n",
       "    <tr>\n",
       "      <th>4</th>\n",
       "      <td>20012</td>\n",
       "      <td>55</td>\n",
       "      <td>2015-08-10</td>\n",
       "      <td>ok</td>\n",
       "      <td>2015-03-04</td>\n",
       "      <td>0</td>\n",
       "      <td>0</td>\n",
       "      <td>1</td>\n",
       "      <td>0</td>\n",
       "      <td>0</td>\n",
       "    </tr>\n",
       "  </tbody>\n",
       "</table>\n",
       "</div>"
      ],
      "text/plain": [
       "   index  maquina       data falha  data_erro  error1  error2  error3  error4  \\\n",
       "0  20012       55 2015-08-10    ok 2015-01-14       0       0       0       0   \n",
       "1  20012       55 2015-08-10    ok 2015-01-18       0       0       1       0   \n",
       "2  20012       55 2015-08-10    ok 2015-01-19       1       0       0       0   \n",
       "3  20012       55 2015-08-10    ok 2015-01-31       0       1       0       0   \n",
       "4  20012       55 2015-08-10    ok 2015-03-04       0       0       1       0   \n",
       "\n",
       "   error5  \n",
       "0       1  \n",
       "1       0  \n",
       "2       0  \n",
       "3       0  \n",
       "4       0  "
      ]
     },
     "execution_count": 17,
     "metadata": {},
     "output_type": "execute_result"
    }
   ],
   "source": [
    "merge.head()"
   ]
  },
  {
   "cell_type": "code",
   "execution_count": 18,
   "metadata": {
    "colab": {},
    "colab_type": "code",
    "id": "HYo4hCt9ditm",
    "scrolled": true
   },
   "outputs": [],
   "source": [
    "# indexes that don't satisfy the window condition -> errors shouldn't be considered (turn into 0)\n",
    "idx = ((merge['data'] - merge['data_erro']) > window )  | \\\n",
    "       (merge['data'] < merge['data_erro'])\n",
    "idx = merge[idx].index\n",
    "merge.loc[idx, 'error1':'error5'] = 0 "
   ]
  },
  {
   "cell_type": "code",
   "execution_count": 19,
   "metadata": {},
   "outputs": [],
   "source": [
    "# Sum the number of errors within the considered window \n",
    "cols = merge.loc[:, 'error1':'error5'].columns\n",
    "group = merge.groupby('index', as_index=False)\n",
    "df_erros = group[cols].sum()"
   ]
  },
  {
   "cell_type": "code",
   "execution_count": 20,
   "metadata": {},
   "outputs": [
    {
     "data": {
      "text/html": [
       "<div>\n",
       "<style scoped>\n",
       "    .dataframe tbody tr th:only-of-type {\n",
       "        vertical-align: middle;\n",
       "    }\n",
       "\n",
       "    .dataframe tbody tr th {\n",
       "        vertical-align: top;\n",
       "    }\n",
       "\n",
       "    .dataframe thead th {\n",
       "        text-align: right;\n",
       "    }\n",
       "</style>\n",
       "<table border=\"1\" class=\"dataframe\">\n",
       "  <thead>\n",
       "    <tr style=\"text-align: right;\">\n",
       "      <th></th>\n",
       "      <th>index</th>\n",
       "      <th>error1</th>\n",
       "      <th>error2</th>\n",
       "      <th>error3</th>\n",
       "      <th>error4</th>\n",
       "      <th>error5</th>\n",
       "    </tr>\n",
       "  </thead>\n",
       "  <tbody>\n",
       "    <tr>\n",
       "      <th>0</th>\n",
       "      <td>0</td>\n",
       "      <td>0</td>\n",
       "      <td>0</td>\n",
       "      <td>0</td>\n",
       "      <td>0</td>\n",
       "      <td>0</td>\n",
       "    </tr>\n",
       "    <tr>\n",
       "      <th>1</th>\n",
       "      <td>3</td>\n",
       "      <td>0</td>\n",
       "      <td>0</td>\n",
       "      <td>0</td>\n",
       "      <td>0</td>\n",
       "      <td>1</td>\n",
       "    </tr>\n",
       "    <tr>\n",
       "      <th>2</th>\n",
       "      <td>5</td>\n",
       "      <td>0</td>\n",
       "      <td>0</td>\n",
       "      <td>0</td>\n",
       "      <td>0</td>\n",
       "      <td>0</td>\n",
       "    </tr>\n",
       "    <tr>\n",
       "      <th>3</th>\n",
       "      <td>6</td>\n",
       "      <td>0</td>\n",
       "      <td>0</td>\n",
       "      <td>0</td>\n",
       "      <td>0</td>\n",
       "      <td>0</td>\n",
       "    </tr>\n",
       "    <tr>\n",
       "      <th>4</th>\n",
       "      <td>7</td>\n",
       "      <td>0</td>\n",
       "      <td>0</td>\n",
       "      <td>0</td>\n",
       "      <td>0</td>\n",
       "      <td>0</td>\n",
       "    </tr>\n",
       "  </tbody>\n",
       "</table>\n",
       "</div>"
      ],
      "text/plain": [
       "   index  error1  error2  error3  error4  error5\n",
       "0      0       0       0       0       0       0\n",
       "1      3       0       0       0       0       1\n",
       "2      5       0       0       0       0       0\n",
       "3      6       0       0       0       0       0\n",
       "4      7       0       0       0       0       0"
      ]
     },
     "execution_count": 20,
     "metadata": {},
     "output_type": "execute_result"
    }
   ],
   "source": [
    "df_erros.head()"
   ]
  },
  {
   "cell_type": "markdown",
   "metadata": {},
   "source": [
    "Now the index column will be our reference for future merges."
   ]
  },
  {
   "cell_type": "markdown",
   "metadata": {
    "colab_type": "text",
    "id": "a29snnLodit1"
   },
   "source": [
    "### Merge dados with info_uso => df_info_uso"
   ]
  },
  {
   "cell_type": "code",
   "execution_count": 22,
   "metadata": {},
   "outputs": [
    {
     "data": {
      "text/html": [
       "<div>\n",
       "<style scoped>\n",
       "    .dataframe tbody tr th:only-of-type {\n",
       "        vertical-align: middle;\n",
       "    }\n",
       "\n",
       "    .dataframe tbody tr th {\n",
       "        vertical-align: top;\n",
       "    }\n",
       "\n",
       "    .dataframe thead th {\n",
       "        text-align: right;\n",
       "    }\n",
       "</style>\n",
       "<table border=\"1\" class=\"dataframe\">\n",
       "  <thead>\n",
       "    <tr style=\"text-align: right;\">\n",
       "      <th></th>\n",
       "      <th>data</th>\n",
       "      <th>maquina</th>\n",
       "      <th>voltagem</th>\n",
       "      <th>rotacao</th>\n",
       "      <th>pressao</th>\n",
       "      <th>vibracao</th>\n",
       "    </tr>\n",
       "  </thead>\n",
       "  <tbody>\n",
       "    <tr>\n",
       "      <th>0</th>\n",
       "      <td>2015-01-01 06:00:00</td>\n",
       "      <td>1</td>\n",
       "      <td>176.217853</td>\n",
       "      <td>418.504078</td>\n",
       "      <td>113.077935</td>\n",
       "      <td>45.087686</td>\n",
       "    </tr>\n",
       "    <tr>\n",
       "      <th>1</th>\n",
       "      <td>2015-01-01 07:00:00</td>\n",
       "      <td>1</td>\n",
       "      <td>162.879223</td>\n",
       "      <td>402.747490</td>\n",
       "      <td>95.460525</td>\n",
       "      <td>43.413973</td>\n",
       "    </tr>\n",
       "    <tr>\n",
       "      <th>2</th>\n",
       "      <td>2015-01-01 08:00:00</td>\n",
       "      <td>1</td>\n",
       "      <td>170.989902</td>\n",
       "      <td>527.349825</td>\n",
       "      <td>75.237905</td>\n",
       "      <td>34.178847</td>\n",
       "    </tr>\n",
       "    <tr>\n",
       "      <th>3</th>\n",
       "      <td>2015-01-01 09:00:00</td>\n",
       "      <td>1</td>\n",
       "      <td>162.462833</td>\n",
       "      <td>346.149335</td>\n",
       "      <td>109.248561</td>\n",
       "      <td>41.122144</td>\n",
       "    </tr>\n",
       "    <tr>\n",
       "      <th>4</th>\n",
       "      <td>2015-01-01 10:00:00</td>\n",
       "      <td>1</td>\n",
       "      <td>157.610021</td>\n",
       "      <td>435.376873</td>\n",
       "      <td>111.886648</td>\n",
       "      <td>25.990511</td>\n",
       "    </tr>\n",
       "  </tbody>\n",
       "</table>\n",
       "</div>"
      ],
      "text/plain": [
       "                 data  maquina    voltagem     rotacao     pressao   vibracao\n",
       "0 2015-01-01 06:00:00        1  176.217853  418.504078  113.077935  45.087686\n",
       "1 2015-01-01 07:00:00        1  162.879223  402.747490   95.460525  43.413973\n",
       "2 2015-01-01 08:00:00        1  170.989902  527.349825   75.237905  34.178847\n",
       "3 2015-01-01 09:00:00        1  162.462833  346.149335  109.248561  41.122144\n",
       "4 2015-01-01 10:00:00        1  157.610021  435.376873  111.886648  25.990511"
      ]
     },
     "execution_count": 22,
     "metadata": {},
     "output_type": "execute_result"
    }
   ],
   "source": [
    "info_uso.head()"
   ]
  },
  {
   "cell_type": "markdown",
   "metadata": {},
   "source": [
    "Again, we have the same problem of features values per hour. We'll proceed with the same \"window\" approach to calculate mean and std for these features within the window period."
   ]
  },
  {
   "cell_type": "code",
   "execution_count": 23,
   "metadata": {
    "colab": {},
    "colab_type": "code",
    "id": "faKwOKUodit2"
   },
   "outputs": [],
   "source": [
    "# Split column in date and hour\n",
    "info_uso_day = info_uso.copy()\n",
    "info_uso_day['data'] = info_uso_day['data'].apply(lambda x: x.date())\n",
    "info_uso_day['data'] = pd.to_datetime(info_uso_day['data'])"
   ]
  },
  {
   "cell_type": "code",
   "execution_count": 24,
   "metadata": {
    "colab": {},
    "colab_type": "code",
    "id": "ikOuWe2odit6"
   },
   "outputs": [],
   "source": [
    "# Group by day\n",
    "cols = info_uso_day.loc[:, 'voltagem':'vibracao'].columns\n",
    "group = info_uso_day.groupby(['maquina', 'data'])[cols]\n",
    "\n",
    "# Feature engineering\n",
    "mean = group.mean().rename( columns={col:'mean_'+col for col in cols} )\n",
    "std = group.std().rename( columns={col:'std_'+col for col in cols} )\n",
    "\n",
    "info_uso_day = pd.concat([mean, std], axis=1).reset_index()"
   ]
  },
  {
   "cell_type": "code",
   "execution_count": 25,
   "metadata": {
    "colab": {},
    "colab_type": "code",
    "id": "EkJY6NNkdiuE"
   },
   "outputs": [],
   "source": [
    "# Merge train and info_uso grouped by day\n",
    "merge = pd.merge(dados, info_uso_day, on='maquina', suffixes=['', '_info'])"
   ]
  },
  {
   "cell_type": "code",
   "execution_count": 26,
   "metadata": {
    "colab": {},
    "colab_type": "code",
    "id": "wESuhZA4diuL"
   },
   "outputs": [],
   "source": [
    "# Set NaN for \"future\" date values or values outside the window\n",
    "idx = ((merge['data'] - merge['data_info']) > window )  | \\\n",
    "       (merge['data'] < merge['data_info'])\n",
    "idx = merge[idx].index\n",
    "merge.loc[idx, 'mean_voltagem':] = np.nan"
   ]
  },
  {
   "cell_type": "code",
   "execution_count": 27,
   "metadata": {
    "colab": {},
    "colab_type": "code",
    "id": "jfttcE1rdiuT"
   },
   "outputs": [],
   "source": [
    "cols = merge.columns[4:] # 'mean_voltagem' : 'std_vibracao'\n",
    "\n",
    "group = merge.groupby('index', as_index=False)\n",
    "\n",
    "df_info_uso = group[cols].agg(np.nanmean)"
   ]
  },
  {
   "cell_type": "markdown",
   "metadata": {
    "colab": {},
    "colab_type": "code",
    "id": "9JFIVcH4diua"
   },
   "source": [
    "Now let's get together all the information we have until now !"
   ]
  },
  {
   "cell_type": "markdown",
   "metadata": {
    "colab_type": "text",
    "id": "cC4RgL3Mdiud"
   },
   "source": [
    "### Merge df_maquinas, df_erros, df_info_uso => df_data "
   ]
  },
  {
   "cell_type": "code",
   "execution_count": 28,
   "metadata": {
    "colab": {},
    "colab_type": "code",
    "id": "Cda9DzCAdiue",
    "scrolled": true
   },
   "outputs": [],
   "source": [
    "data = pd.merge(df_maquinas, df_erros, on='index')\n",
    "data = pd.merge(data, df_info_uso, on='index')"
   ]
  },
  {
   "cell_type": "markdown",
   "metadata": {
    "colab_type": "text",
    "id": "LQxX881jdiul"
   },
   "source": [
    "### Dummies of modelo and drop maquina, data columns"
   ]
  },
  {
   "cell_type": "code",
   "execution_count": 29,
   "metadata": {
    "colab": {},
    "colab_type": "code",
    "id": "mt4Xfhm6dium"
   },
   "outputs": [],
   "source": [
    "# dummie modelo\n",
    "dumm = pd.get_dummies(data['modelo'])\n",
    "data = pd.concat([data, dumm], axis=1).drop('modelo', axis=1)"
   ]
  },
  {
   "cell_type": "code",
   "execution_count": 30,
   "metadata": {
    "colab": {},
    "colab_type": "code",
    "id": "2ncnZqiVdiup"
   },
   "outputs": [],
   "source": [
    "# remove maquina and data columns\n",
    "data.drop(['maquina', 'data'], axis=1, inplace=True)\n",
    "\n",
    "if data_type == 'treino':\n",
    "    data.drop('index', axis=1, inplace=True)"
   ]
  },
  {
   "cell_type": "code",
   "execution_count": 31,
   "metadata": {},
   "outputs": [
    {
     "data": {
      "text/html": [
       "<div>\n",
       "<style scoped>\n",
       "    .dataframe tbody tr th:only-of-type {\n",
       "        vertical-align: middle;\n",
       "    }\n",
       "\n",
       "    .dataframe tbody tr th {\n",
       "        vertical-align: top;\n",
       "    }\n",
       "\n",
       "    .dataframe thead th {\n",
       "        text-align: right;\n",
       "    }\n",
       "</style>\n",
       "<table border=\"1\" class=\"dataframe\">\n",
       "  <thead>\n",
       "    <tr style=\"text-align: right;\">\n",
       "      <th></th>\n",
       "      <th>falha</th>\n",
       "      <th>idade</th>\n",
       "      <th>error1</th>\n",
       "      <th>error2</th>\n",
       "      <th>error3</th>\n",
       "      <th>error4</th>\n",
       "      <th>error5</th>\n",
       "      <th>mean_voltagem</th>\n",
       "      <th>mean_rotacao</th>\n",
       "      <th>mean_pressao</th>\n",
       "      <th>mean_vibracao</th>\n",
       "      <th>std_voltagem</th>\n",
       "      <th>std_rotacao</th>\n",
       "      <th>std_pressao</th>\n",
       "      <th>std_vibracao</th>\n",
       "      <th>model1</th>\n",
       "      <th>model2</th>\n",
       "      <th>model3</th>\n",
       "      <th>model4</th>\n",
       "    </tr>\n",
       "  </thead>\n",
       "  <tbody>\n",
       "    <tr>\n",
       "      <th>0</th>\n",
       "      <td>ok</td>\n",
       "      <td>17</td>\n",
       "      <td>0</td>\n",
       "      <td>0</td>\n",
       "      <td>0</td>\n",
       "      <td>0</td>\n",
       "      <td>0</td>\n",
       "      <td>165.678044</td>\n",
       "      <td>436.241599</td>\n",
       "      <td>100.054536</td>\n",
       "      <td>38.053647</td>\n",
       "      <td>15.523593</td>\n",
       "      <td>58.018104</td>\n",
       "      <td>9.715540</td>\n",
       "      <td>4.960047</td>\n",
       "      <td>0</td>\n",
       "      <td>0</td>\n",
       "      <td>1</td>\n",
       "      <td>0</td>\n",
       "    </tr>\n",
       "    <tr>\n",
       "      <th>1</th>\n",
       "      <td>ok</td>\n",
       "      <td>17</td>\n",
       "      <td>0</td>\n",
       "      <td>0</td>\n",
       "      <td>0</td>\n",
       "      <td>0</td>\n",
       "      <td>0</td>\n",
       "      <td>167.984429</td>\n",
       "      <td>449.209447</td>\n",
       "      <td>100.395188</td>\n",
       "      <td>40.178632</td>\n",
       "      <td>16.523830</td>\n",
       "      <td>50.504585</td>\n",
       "      <td>12.082691</td>\n",
       "      <td>3.608012</td>\n",
       "      <td>0</td>\n",
       "      <td>0</td>\n",
       "      <td>1</td>\n",
       "      <td>0</td>\n",
       "    </tr>\n",
       "    <tr>\n",
       "      <th>2</th>\n",
       "      <td>ok</td>\n",
       "      <td>17</td>\n",
       "      <td>0</td>\n",
       "      <td>0</td>\n",
       "      <td>0</td>\n",
       "      <td>0</td>\n",
       "      <td>0</td>\n",
       "      <td>173.296031</td>\n",
       "      <td>461.113762</td>\n",
       "      <td>96.854299</td>\n",
       "      <td>39.133315</td>\n",
       "      <td>13.776066</td>\n",
       "      <td>43.845024</td>\n",
       "      <td>7.614312</td>\n",
       "      <td>6.009319</td>\n",
       "      <td>0</td>\n",
       "      <td>0</td>\n",
       "      <td>1</td>\n",
       "      <td>0</td>\n",
       "    </tr>\n",
       "    <tr>\n",
       "      <th>3</th>\n",
       "      <td>ok</td>\n",
       "      <td>17</td>\n",
       "      <td>0</td>\n",
       "      <td>0</td>\n",
       "      <td>0</td>\n",
       "      <td>0</td>\n",
       "      <td>0</td>\n",
       "      <td>167.224425</td>\n",
       "      <td>450.492274</td>\n",
       "      <td>99.447270</td>\n",
       "      <td>40.829714</td>\n",
       "      <td>18.396645</td>\n",
       "      <td>53.864923</td>\n",
       "      <td>11.908198</td>\n",
       "      <td>5.874302</td>\n",
       "      <td>0</td>\n",
       "      <td>0</td>\n",
       "      <td>1</td>\n",
       "      <td>0</td>\n",
       "    </tr>\n",
       "    <tr>\n",
       "      <th>4</th>\n",
       "      <td>ok</td>\n",
       "      <td>17</td>\n",
       "      <td>1</td>\n",
       "      <td>0</td>\n",
       "      <td>0</td>\n",
       "      <td>0</td>\n",
       "      <td>0</td>\n",
       "      <td>173.641802</td>\n",
       "      <td>441.383124</td>\n",
       "      <td>98.744748</td>\n",
       "      <td>39.439531</td>\n",
       "      <td>12.846186</td>\n",
       "      <td>60.070156</td>\n",
       "      <td>7.903329</td>\n",
       "      <td>5.866805</td>\n",
       "      <td>0</td>\n",
       "      <td>0</td>\n",
       "      <td>1</td>\n",
       "      <td>0</td>\n",
       "    </tr>\n",
       "  </tbody>\n",
       "</table>\n",
       "</div>"
      ],
      "text/plain": [
       "  falha  idade  error1  error2  error3  error4  error5  mean_voltagem  \\\n",
       "0    ok     17       0       0       0       0       0     165.678044   \n",
       "1    ok     17       0       0       0       0       0     167.984429   \n",
       "2    ok     17       0       0       0       0       0     173.296031   \n",
       "3    ok     17       0       0       0       0       0     167.224425   \n",
       "4    ok     17       1       0       0       0       0     173.641802   \n",
       "\n",
       "   mean_rotacao  mean_pressao  mean_vibracao  std_voltagem  std_rotacao  \\\n",
       "0    436.241599    100.054536      38.053647     15.523593    58.018104   \n",
       "1    449.209447    100.395188      40.178632     16.523830    50.504585   \n",
       "2    461.113762     96.854299      39.133315     13.776066    43.845024   \n",
       "3    450.492274     99.447270      40.829714     18.396645    53.864923   \n",
       "4    441.383124     98.744748      39.439531     12.846186    60.070156   \n",
       "\n",
       "   std_pressao  std_vibracao  model1  model2  model3  model4  \n",
       "0     9.715540      4.960047       0       0       1       0  \n",
       "1    12.082691      3.608012       0       0       1       0  \n",
       "2     7.614312      6.009319       0       0       1       0  \n",
       "3    11.908198      5.874302       0       0       1       0  \n",
       "4     7.903329      5.866805       0       0       1       0  "
      ]
     },
     "execution_count": 31,
     "metadata": {},
     "output_type": "execute_result"
    }
   ],
   "source": [
    "data.head()"
   ]
  },
  {
   "cell_type": "code",
   "execution_count": 32,
   "metadata": {
    "colab": {},
    "colab_type": "code",
    "id": "GHO-UT-7diut"
   },
   "outputs": [],
   "source": [
    "# save to csv\n",
    "days = days.replace(' ', '')\n",
    "data.to_csv('data_%s_%s.csv' % (data_type, days), index=False)"
   ]
  }
 ],
 "metadata": {
  "colab": {
   "name": "generate_data.ipynb",
   "provenance": [],
   "version": "0.3.2"
  },
  "kernelspec": {
   "display_name": "Python 3",
   "language": "python",
   "name": "python3"
  },
  "language_info": {
   "codemirror_mode": {
    "name": "ipython",
    "version": 3
   },
   "file_extension": ".py",
   "mimetype": "text/x-python",
   "name": "python",
   "nbconvert_exporter": "python",
   "pygments_lexer": "ipython3",
   "version": "3.5.2"
  }
 },
 "nbformat": 4,
 "nbformat_minor": 1
}
