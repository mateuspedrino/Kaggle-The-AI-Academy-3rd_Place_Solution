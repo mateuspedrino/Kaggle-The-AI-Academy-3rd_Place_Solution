{
 "cells": [
  {
   "cell_type": "markdown",
   "metadata": {},
   "source": [
    "# DOJO ML - 3rd Place solution\n",
    "## team : curiosos_do_ml \n",
    "## Mateus C. Pedrino - Bruno Rasteiro - HelloToMyLittleFriend"
   ]
  },
  {
   "cell_type": "markdown",
   "metadata": {},
   "source": [
    "## Training and tuning models\n",
    "\n",
    "The aim of this notebook is to train models to classificate data that was generated with the first notebook (Preparing Data)."
   ]
  },
  {
   "cell_type": "code",
   "execution_count": 1,
   "metadata": {},
   "outputs": [],
   "source": [
    "import pandas as pd\n",
    "import matplotlib.pyplot as plt\n",
    "import numpy as np\n",
    "import sklearn.datasets as skdata\n",
    "from sklearn.preprocessing import StandardScaler, MinMaxScaler\n",
    "from sklearn.model_selection import GridSearchCV\n",
    "from sklearn.neural_network import MLPClassifier\n",
    "from sklearn.ensemble import RandomForestClassifier\n",
    "from sklearn.neighbors import KNeighborsClassifier\n",
    "from sklearn.naive_bayes import GaussianNB\n",
    "from sklearn.feature_selection import SelectKBest\n",
    "from sklearn.feature_selection import chi2\n",
    "from sklearn.decomposition import PCA\n",
    "from xgboost import XGBClassifier\n",
    "\n",
    "# Disable warnings\n",
    "import warnings\n",
    "warnings.filterwarnings('ignore')"
   ]
  },
  {
   "cell_type": "code",
   "execution_count": 9,
   "metadata": {},
   "outputs": [
    {
     "data": {
      "text/html": [
       "<div>\n",
       "<style scoped>\n",
       "    .dataframe tbody tr th:only-of-type {\n",
       "        vertical-align: middle;\n",
       "    }\n",
       "\n",
       "    .dataframe tbody tr th {\n",
       "        vertical-align: top;\n",
       "    }\n",
       "\n",
       "    .dataframe thead th {\n",
       "        text-align: right;\n",
       "    }\n",
       "</style>\n",
       "<table border=\"1\" class=\"dataframe\">\n",
       "  <thead>\n",
       "    <tr style=\"text-align: right;\">\n",
       "      <th></th>\n",
       "      <th>std_voltagem</th>\n",
       "      <th>std_rotacao</th>\n",
       "      <th>std_pressao</th>\n",
       "      <th>std_vibracao</th>\n",
       "      <th>min_voltagem</th>\n",
       "      <th>min_rotacao</th>\n",
       "      <th>min_pressao</th>\n",
       "      <th>min_vibracao</th>\n",
       "      <th>max_voltagem</th>\n",
       "      <th>max_rotacao</th>\n",
       "      <th>max_pressao</th>\n",
       "      <th>max_vibracao</th>\n",
       "      <th>rms_voltagem</th>\n",
       "      <th>rms_rotacao</th>\n",
       "      <th>rms_pressao</th>\n",
       "      <th>rms_vibracao</th>\n",
       "    </tr>\n",
       "  </thead>\n",
       "  <tbody>\n",
       "    <tr>\n",
       "      <th>0</th>\n",
       "      <td>15.523593</td>\n",
       "      <td>58.018104</td>\n",
       "      <td>9.715540</td>\n",
       "      <td>4.960047</td>\n",
       "      <td>129.526479</td>\n",
       "      <td>323.885291</td>\n",
       "      <td>85.081021</td>\n",
       "      <td>28.745974</td>\n",
       "      <td>191.972061</td>\n",
       "      <td>573.845660</td>\n",
       "      <td>116.316702</td>\n",
       "      <td>47.091065</td>\n",
       "      <td>166.373541</td>\n",
       "      <td>439.923378</td>\n",
       "      <td>100.505567</td>\n",
       "      <td>38.362183</td>\n",
       "    </tr>\n",
       "    <tr>\n",
       "      <th>1</th>\n",
       "      <td>16.523830</td>\n",
       "      <td>50.504585</td>\n",
       "      <td>12.082691</td>\n",
       "      <td>3.608012</td>\n",
       "      <td>133.872870</td>\n",
       "      <td>367.179243</td>\n",
       "      <td>79.524147</td>\n",
       "      <td>33.438301</td>\n",
       "      <td>193.119235</td>\n",
       "      <td>566.234917</td>\n",
       "      <td>123.367616</td>\n",
       "      <td>46.253889</td>\n",
       "      <td>168.761455</td>\n",
       "      <td>451.922074</td>\n",
       "      <td>101.089575</td>\n",
       "      <td>40.333582</td>\n",
       "    </tr>\n",
       "    <tr>\n",
       "      <th>2</th>\n",
       "      <td>13.776066</td>\n",
       "      <td>43.845024</td>\n",
       "      <td>7.614312</td>\n",
       "      <td>6.009319</td>\n",
       "      <td>140.135108</td>\n",
       "      <td>369.586722</td>\n",
       "      <td>82.187235</td>\n",
       "      <td>23.524639</td>\n",
       "      <td>191.889417</td>\n",
       "      <td>516.402811</td>\n",
       "      <td>110.227672</td>\n",
       "      <td>49.146355</td>\n",
       "      <td>173.819984</td>\n",
       "      <td>463.107103</td>\n",
       "      <td>97.140708</td>\n",
       "      <td>39.573016</td>\n",
       "    </tr>\n",
       "    <tr>\n",
       "      <th>3</th>\n",
       "      <td>18.396645</td>\n",
       "      <td>53.864923</td>\n",
       "      <td>11.908198</td>\n",
       "      <td>5.874302</td>\n",
       "      <td>137.422712</td>\n",
       "      <td>317.393133</td>\n",
       "      <td>76.143593</td>\n",
       "      <td>28.074336</td>\n",
       "      <td>201.729701</td>\n",
       "      <td>574.805957</td>\n",
       "      <td>130.017462</td>\n",
       "      <td>50.041233</td>\n",
       "      <td>168.191389</td>\n",
       "      <td>453.567885</td>\n",
       "      <td>100.128199</td>\n",
       "      <td>41.232695</td>\n",
       "    </tr>\n",
       "    <tr>\n",
       "      <th>4</th>\n",
       "      <td>12.846186</td>\n",
       "      <td>60.070156</td>\n",
       "      <td>7.903329</td>\n",
       "      <td>5.866805</td>\n",
       "      <td>143.394542</td>\n",
       "      <td>338.679510</td>\n",
       "      <td>85.857917</td>\n",
       "      <td>30.340104</td>\n",
       "      <td>197.987199</td>\n",
       "      <td>567.144780</td>\n",
       "      <td>111.286537</td>\n",
       "      <td>53.820648</td>\n",
       "      <td>174.096593</td>\n",
       "      <td>445.283208</td>\n",
       "      <td>99.047389</td>\n",
       "      <td>39.855513</td>\n",
       "    </tr>\n",
       "  </tbody>\n",
       "</table>\n",
       "</div>"
      ],
      "text/plain": [
       "   std_voltagem  std_rotacao  std_pressao  std_vibracao  min_voltagem  \\\n",
       "0     15.523593    58.018104     9.715540      4.960047    129.526479   \n",
       "1     16.523830    50.504585    12.082691      3.608012    133.872870   \n",
       "2     13.776066    43.845024     7.614312      6.009319    140.135108   \n",
       "3     18.396645    53.864923    11.908198      5.874302    137.422712   \n",
       "4     12.846186    60.070156     7.903329      5.866805    143.394542   \n",
       "\n",
       "   min_rotacao  min_pressao  min_vibracao  max_voltagem  max_rotacao  \\\n",
       "0   323.885291    85.081021     28.745974    191.972061   573.845660   \n",
       "1   367.179243    79.524147     33.438301    193.119235   566.234917   \n",
       "2   369.586722    82.187235     23.524639    191.889417   516.402811   \n",
       "3   317.393133    76.143593     28.074336    201.729701   574.805957   \n",
       "4   338.679510    85.857917     30.340104    197.987199   567.144780   \n",
       "\n",
       "   max_pressao  max_vibracao  rms_voltagem  rms_rotacao  rms_pressao  \\\n",
       "0   116.316702     47.091065    166.373541   439.923378   100.505567   \n",
       "1   123.367616     46.253889    168.761455   451.922074   101.089575   \n",
       "2   110.227672     49.146355    173.819984   463.107103    97.140708   \n",
       "3   130.017462     50.041233    168.191389   453.567885   100.128199   \n",
       "4   111.286537     53.820648    174.096593   445.283208    99.047389   \n",
       "\n",
       "   rms_vibracao  \n",
       "0     38.362183  \n",
       "1     40.333582  \n",
       "2     39.573016  \n",
       "3     41.232695  \n",
       "4     39.855513  "
      ]
     },
     "execution_count": 9,
     "metadata": {},
     "output_type": "execute_result"
    }
   ],
   "source": [
    "df=pd.read_csv('data_treino_0days.csv', header=(0))\n",
    "#pd.concat([df[df.columns[0:11]],df[df.columns[-4:]]], axis=1).head()\n",
    "df[df.columns[11:-4]].head()"
   ]
  },
  {
   "cell_type": "code",
   "execution_count": 4,
   "metadata": {},
   "outputs": [],
   "source": [
    "# Split into X and Y and standardize X\n",
    "Y=np.array(df['falha'], dtype=str)\n",
    "X=df.drop('falha', axis=1)\n",
    "X_std=StandardScaler().fit_transform(X)"
   ]
  },
  {
   "cell_type": "code",
   "execution_count": 5,
   "metadata": {},
   "outputs": [],
   "source": [
    "# Combinantions of parameters to be tested with each classifier\n",
    "\n",
    "mlp_param = {\n",
    "    'hidden_layer_sizes': [(10,10,10), (10,20,10), (20,), (10)],\n",
    "    'activation': ['tanh', 'relu'],\n",
    "    'solver': ['sgd', 'adam', 'lbfgs'],\n",
    "    'alpha': [0.001, 0.05],\n",
    "    'learning_rate': ['constant','adaptive'],\n",
    "}\n",
    "\n",
    "rf_param = {\n",
    "    'n_estimators': [5, 10, 15, 30], \n",
    "    'max_depth': [3, 5, 10], \n",
    "    'min_samples_split': [2, 3],\n",
    "}\n",
    "    \n",
    "knn_param = {\n",
    "    'n_neighbors' : np.arange(2,11,1),\n",
    "    'metric' : ['euclidean','manhattan','chebyshev'],\n",
    "}\n",
    "\n",
    "xgb_param = {\n",
    "    'max_depth': [3, 7, 10],\n",
    "    'max_features' : [5, 10],\n",
    "    'learning_rate': [0.01, 0.05],\n",
    "    'n_estimators': [10, 15, 30],\n",
    "}\n",
    "\n",
    "params = [mlp_param, rf_param, xgb_param]"
   ]
  },
  {
   "cell_type": "code",
   "execution_count": 6,
   "metadata": {},
   "outputs": [],
   "source": [
    "# Initializing models (and parallelizing)\n",
    "\n",
    "mlp = MLPClassifier()\n",
    "rf = RandomForestClassifier(n_jobs=-1)\n",
    "#knn = KNeighborsClassifier(n_jobs=-1)\n",
    "xgb = XGBClassifier(n_jobs=-1)\n",
    "# Models with hiperparameters to tune (except gnb)\n",
    "models=[mlp, rf, xgb]"
   ]
  },
  {
   "cell_type": "code",
   "execution_count": 7,
   "metadata": {},
   "outputs": [
    {
     "name": "stdout",
     "output_type": "stream",
     "text": [
      "0\n",
      "1\n",
      "2\n"
     ]
    }
   ],
   "source": [
    "# Grid search with the hiperparameters\n",
    "\n",
    "gs=[] # Grid searchs that will be executed with each metric\n",
    "\n",
    "for i in range(len(params)):\n",
    "    print(i) # track progression\n",
    "    gs.append(GridSearchCV(estimator=models[i], param_grid=params[i], \\\n",
    "                           scoring='f1_micro', cv=10, n_jobs=-1).fit(X_std, Y))"
   ]
  },
  {
   "cell_type": "code",
   "execution_count": 8,
   "metadata": {},
   "outputs": [
    {
     "name": "stdout",
     "output_type": "stream",
     "text": [
      "MLP\n",
      "[0.9798830409356725, 0.0011907811608056517]\n",
      "RF\n",
      "[0.9796491228070175, 0.000943689460285855]\n",
      "XGB\n",
      "[0.9801559454191033, 0.0017502884163058997]\n"
     ]
    }
   ],
   "source": [
    "# Best f1 score for each classificator\n",
    "classificadores=['MLP','RF','XGB']\n",
    "\n",
    "for i in range(len(classificadores)):\n",
    "    print(classificadores[i])\n",
    "    idx=gs[i].best_index_\n",
    "    print([gs[i].cv_results_['mean_test_score'][idx],\\\n",
    "          gs[i].cv_results_['std_test_score'][idx]])"
   ]
  },
  {
   "cell_type": "code",
   "execution_count": 28,
   "metadata": {},
   "outputs": [
    {
     "data": {
      "text/plain": [
       "{'max_depth': 10, 'min_samples_split': 2, 'n_estimators': 15}"
      ]
     },
     "execution_count": 28,
     "metadata": {},
     "output_type": "execute_result"
    }
   ],
   "source": [
    "# Best parameters for RF\n",
    "idx=gs[1].best_index_\n",
    "gs[1].cv_results_['params'][idx]"
   ]
  },
  {
   "cell_type": "code",
   "execution_count": 30,
   "metadata": {},
   "outputs": [],
   "source": [
    "# Feature selection\n",
    "from sklearn.feature_selection import SelectKBest, chi2, RFE, RFECV\n",
    "\n",
    "rfecv = RFECV(estimator=gs[1].best_estimator_, step=1, cv=10, scoring='f1_micro')\n",
    "rfecv = rfecv.fit(X_std, Y)"
   ]
  },
  {
   "cell_type": "code",
   "execution_count": 32,
   "metadata": {},
   "outputs": [
    {
     "name": "stdout",
     "output_type": "stream",
     "text": [
      "Num. original de features :  30\n",
      "Melhor número de features :  25\n",
      "Melhores features :  Index(['idade', 'mean_voltagem', 'mean_rotacao', 'mean_pressao',\n",
      "       'mean_vibracao', 'std_voltagem', 'std_rotacao', 'std_pressao',\n",
      "       'std_vibracao', 'min_voltagem', 'min_rotacao', 'min_pressao',\n",
      "       'min_vibracao', 'max_voltagem', 'max_rotacao', 'max_pressao',\n",
      "       'max_vibracao', 'rms_voltagem', 'rms_rotacao', 'rms_pressao',\n",
      "       'rms_vibracao', 'model1', 'model2', 'model3', 'model4'],\n",
      "      dtype='object')\n",
      "Melhor score :  [0.978915312438525, 0.0004579059639043891]\n"
     ]
    }
   ],
   "source": [
    "input_labels = df.drop('falha', axis=1).columns # Features de X\n",
    "print('Num. original de features : ',len(input_labels))\n",
    "print('Melhor número de features : ', rfecv.n_features_)\n",
    "print('Melhores features : ', input_labels[rfecv.support_])\n",
    "scrs=rfecv.grid_scores_\n",
    "print('Melhor score : ', [np.mean(scrs), np.std(scrs)])"
   ]
  },
  {
   "cell_type": "code",
   "execution_count": 33,
   "metadata": {},
   "outputs": [],
   "source": [
    "# Test model\n",
    "\n",
    "#modelo = gs[1].best_estimator_\n",
    "\n",
    "modelo = rfecv.estimator_"
   ]
  },
  {
   "cell_type": "code",
   "execution_count": 10,
   "metadata": {},
   "outputs": [
    {
     "data": {
      "text/html": [
       "<div>\n",
       "<style scoped>\n",
       "    .dataframe tbody tr th:only-of-type {\n",
       "        vertical-align: middle;\n",
       "    }\n",
       "\n",
       "    .dataframe tbody tr th {\n",
       "        vertical-align: top;\n",
       "    }\n",
       "\n",
       "    .dataframe thead th {\n",
       "        text-align: right;\n",
       "    }\n",
       "</style>\n",
       "<table border=\"1\" class=\"dataframe\">\n",
       "  <thead>\n",
       "    <tr style=\"text-align: right;\">\n",
       "      <th></th>\n",
       "      <th>idade</th>\n",
       "      <th>mean_voltagem</th>\n",
       "      <th>mean_rotacao</th>\n",
       "      <th>mean_pressao</th>\n",
       "      <th>mean_vibracao</th>\n",
       "      <th>std_voltagem</th>\n",
       "      <th>std_rotacao</th>\n",
       "      <th>std_pressao</th>\n",
       "      <th>std_vibracao</th>\n",
       "      <th>min_voltagem</th>\n",
       "      <th>...</th>\n",
       "      <th>max_pressao</th>\n",
       "      <th>max_vibracao</th>\n",
       "      <th>rms_voltagem</th>\n",
       "      <th>rms_rotacao</th>\n",
       "      <th>rms_pressao</th>\n",
       "      <th>rms_vibracao</th>\n",
       "      <th>model1</th>\n",
       "      <th>model2</th>\n",
       "      <th>model3</th>\n",
       "      <th>model4</th>\n",
       "    </tr>\n",
       "  </thead>\n",
       "  <tbody>\n",
       "    <tr>\n",
       "      <th>0</th>\n",
       "      <td>1</td>\n",
       "      <td>174.930809</td>\n",
       "      <td>464.875981</td>\n",
       "      <td>103.308430</td>\n",
       "      <td>41.460377</td>\n",
       "      <td>13.501364</td>\n",
       "      <td>49.004705</td>\n",
       "      <td>11.557952</td>\n",
       "      <td>4.307224</td>\n",
       "      <td>140.535476</td>\n",
       "      <td>...</td>\n",
       "      <td>132.828593</td>\n",
       "      <td>49.092153</td>\n",
       "      <td>175.429415</td>\n",
       "      <td>467.344710</td>\n",
       "      <td>103.926184</td>\n",
       "      <td>41.674237</td>\n",
       "      <td>0</td>\n",
       "      <td>0</td>\n",
       "      <td>0</td>\n",
       "      <td>1</td>\n",
       "    </tr>\n",
       "    <tr>\n",
       "      <th>1</th>\n",
       "      <td>1</td>\n",
       "      <td>174.011837</td>\n",
       "      <td>448.216195</td>\n",
       "      <td>96.893716</td>\n",
       "      <td>40.030568</td>\n",
       "      <td>18.831546</td>\n",
       "      <td>37.098417</td>\n",
       "      <td>8.964805</td>\n",
       "      <td>4.859134</td>\n",
       "      <td>130.104711</td>\n",
       "      <td>...</td>\n",
       "      <td>115.442952</td>\n",
       "      <td>48.056273</td>\n",
       "      <td>174.985629</td>\n",
       "      <td>449.685117</td>\n",
       "      <td>97.290345</td>\n",
       "      <td>40.312204</td>\n",
       "      <td>0</td>\n",
       "      <td>0</td>\n",
       "      <td>0</td>\n",
       "      <td>1</td>\n",
       "    </tr>\n",
       "    <tr>\n",
       "      <th>2</th>\n",
       "      <td>1</td>\n",
       "      <td>168.249533</td>\n",
       "      <td>456.817587</td>\n",
       "      <td>102.344155</td>\n",
       "      <td>39.147756</td>\n",
       "      <td>12.831070</td>\n",
       "      <td>55.997355</td>\n",
       "      <td>8.625702</td>\n",
       "      <td>5.149518</td>\n",
       "      <td>140.255879</td>\n",
       "      <td>...</td>\n",
       "      <td>120.857067</td>\n",
       "      <td>49.706263</td>\n",
       "      <td>168.717758</td>\n",
       "      <td>460.094944</td>\n",
       "      <td>102.691912</td>\n",
       "      <td>39.470994</td>\n",
       "      <td>0</td>\n",
       "      <td>0</td>\n",
       "      <td>0</td>\n",
       "      <td>1</td>\n",
       "    </tr>\n",
       "    <tr>\n",
       "      <th>3</th>\n",
       "      <td>1</td>\n",
       "      <td>170.989978</td>\n",
       "      <td>434.912994</td>\n",
       "      <td>98.296343</td>\n",
       "      <td>40.799268</td>\n",
       "      <td>15.613689</td>\n",
       "      <td>47.521158</td>\n",
       "      <td>10.914604</td>\n",
       "      <td>4.506465</td>\n",
       "      <td>145.521888</td>\n",
       "      <td>...</td>\n",
       "      <td>118.811712</td>\n",
       "      <td>49.682059</td>\n",
       "      <td>171.671786</td>\n",
       "      <td>437.393963</td>\n",
       "      <td>98.875355</td>\n",
       "      <td>41.037085</td>\n",
       "      <td>0</td>\n",
       "      <td>0</td>\n",
       "      <td>0</td>\n",
       "      <td>1</td>\n",
       "    </tr>\n",
       "    <tr>\n",
       "      <th>4</th>\n",
       "      <td>1</td>\n",
       "      <td>173.194069</td>\n",
       "      <td>444.169114</td>\n",
       "      <td>98.639648</td>\n",
       "      <td>39.552186</td>\n",
       "      <td>15.512615</td>\n",
       "      <td>51.257369</td>\n",
       "      <td>11.033279</td>\n",
       "      <td>4.792396</td>\n",
       "      <td>138.857930</td>\n",
       "      <td>...</td>\n",
       "      <td>125.422011</td>\n",
       "      <td>49.662658</td>\n",
       "      <td>173.858563</td>\n",
       "      <td>446.994461</td>\n",
       "      <td>99.229235</td>\n",
       "      <td>39.829456</td>\n",
       "      <td>0</td>\n",
       "      <td>0</td>\n",
       "      <td>0</td>\n",
       "      <td>1</td>\n",
       "    </tr>\n",
       "  </tbody>\n",
       "</table>\n",
       "<p>5 rows × 25 columns</p>\n",
       "</div>"
      ],
      "text/plain": [
       "   idade  mean_voltagem  mean_rotacao  mean_pressao  mean_vibracao  \\\n",
       "0      1     174.930809    464.875981    103.308430      41.460377   \n",
       "1      1     174.011837    448.216195     96.893716      40.030568   \n",
       "2      1     168.249533    456.817587    102.344155      39.147756   \n",
       "3      1     170.989978    434.912994     98.296343      40.799268   \n",
       "4      1     173.194069    444.169114     98.639648      39.552186   \n",
       "\n",
       "   std_voltagem  std_rotacao  std_pressao  std_vibracao  min_voltagem   ...    \\\n",
       "0     13.501364    49.004705    11.557952      4.307224    140.535476   ...     \n",
       "1     18.831546    37.098417     8.964805      4.859134    130.104711   ...     \n",
       "2     12.831070    55.997355     8.625702      5.149518    140.255879   ...     \n",
       "3     15.613689    47.521158    10.914604      4.506465    145.521888   ...     \n",
       "4     15.512615    51.257369    11.033279      4.792396    138.857930   ...     \n",
       "\n",
       "   max_pressao  max_vibracao  rms_voltagem  rms_rotacao  rms_pressao  \\\n",
       "0   132.828593     49.092153    175.429415   467.344710   103.926184   \n",
       "1   115.442952     48.056273    174.985629   449.685117    97.290345   \n",
       "2   120.857067     49.706263    168.717758   460.094944   102.691912   \n",
       "3   118.811712     49.682059    171.671786   437.393963    98.875355   \n",
       "4   125.422011     49.662658    173.858563   446.994461    99.229235   \n",
       "\n",
       "   rms_vibracao  model1  model2  model3  model4  \n",
       "0     41.674237       0       0       0       1  \n",
       "1     40.312204       0       0       0       1  \n",
       "2     39.470994       0       0       0       1  \n",
       "3     41.037085       0       0       0       1  \n",
       "4     39.829456       0       0       0       1  \n",
       "\n",
       "[5 rows x 25 columns]"
      ]
     },
     "execution_count": 10,
     "metadata": {},
     "output_type": "execute_result"
    }
   ],
   "source": [
    "# Test\n",
    "test=pd.read_csv('data_teste_0days.csv', header=(0))\n",
    "test_no_idx=test.drop(['index', 'error1', 'error2', 'error3', 'error4', 'error5'], axis=1)\n",
    "test_no_idx.head()"
   ]
  },
  {
   "cell_type": "code",
   "execution_count": 15,
   "metadata": {},
   "outputs": [
    {
     "data": {
      "text/plain": [
       "Index(['idade', 'error1', 'error2', 'error3', 'error4', 'error5',\n",
       "       'mean_voltagem', 'mean_rotacao', 'mean_pressao', 'mean_vibracao',\n",
       "       'std_voltagem', 'std_rotacao', 'std_pressao', 'std_vibracao',\n",
       "       'min_voltagem', 'min_rotacao', 'min_pressao', 'min_vibracao',\n",
       "       'max_voltagem', 'max_rotacao', 'max_pressao', 'max_vibracao',\n",
       "       'rms_voltagem', 'rms_rotacao', 'rms_pressao', 'rms_vibracao', 'model1',\n",
       "       'model2', 'model3', 'model4'],\n",
       "      dtype='object')"
      ]
     },
     "execution_count": 15,
     "metadata": {},
     "output_type": "execute_result"
    }
   ],
   "source": [
    "test.drop('index', axis=1).columns"
   ]
  },
  {
   "cell_type": "code",
   "execution_count": 37,
   "metadata": {},
   "outputs": [],
   "source": [
    "# Preparing test\n",
    "\n",
    "X_teste=np.array(test_no_idx)\n",
    "X_teste_std=StandardScaler().fit_transform(X_teste)"
   ]
  },
  {
   "cell_type": "code",
   "execution_count": 38,
   "metadata": {},
   "outputs": [],
   "source": [
    "Y_pred=modelo.predict(X_teste_std)"
   ]
  },
  {
   "cell_type": "code",
   "execution_count": 39,
   "metadata": {},
   "outputs": [
    {
     "data": {
      "text/plain": [
       "array(['comp1', 'comp2', 'comp3', 'comp4', 'ok'], dtype='<U64')"
      ]
     },
     "execution_count": 39,
     "metadata": {},
     "output_type": "execute_result"
    }
   ],
   "source": [
    "np.unique(Y_pred)"
   ]
  },
  {
   "cell_type": "code",
   "execution_count": 40,
   "metadata": {},
   "outputs": [
    {
     "data": {
      "text/html": [
       "<div>\n",
       "<style scoped>\n",
       "    .dataframe tbody tr th:only-of-type {\n",
       "        vertical-align: middle;\n",
       "    }\n",
       "\n",
       "    .dataframe tbody tr th {\n",
       "        vertical-align: top;\n",
       "    }\n",
       "\n",
       "    .dataframe thead th {\n",
       "        text-align: right;\n",
       "    }\n",
       "</style>\n",
       "<table border=\"1\" class=\"dataframe\">\n",
       "  <thead>\n",
       "    <tr style=\"text-align: right;\">\n",
       "      <th></th>\n",
       "      <th>index</th>\n",
       "      <th>falha</th>\n",
       "    </tr>\n",
       "  </thead>\n",
       "  <tbody>\n",
       "    <tr>\n",
       "      <th>0</th>\n",
       "      <td>10083</td>\n",
       "      <td>ok</td>\n",
       "    </tr>\n",
       "    <tr>\n",
       "      <th>1</th>\n",
       "      <td>9914</td>\n",
       "      <td>ok</td>\n",
       "    </tr>\n",
       "    <tr>\n",
       "      <th>2</th>\n",
       "      <td>9961</td>\n",
       "      <td>ok</td>\n",
       "    </tr>\n",
       "    <tr>\n",
       "      <th>3</th>\n",
       "      <td>9991</td>\n",
       "      <td>ok</td>\n",
       "    </tr>\n",
       "    <tr>\n",
       "      <th>4</th>\n",
       "      <td>10114</td>\n",
       "      <td>ok</td>\n",
       "    </tr>\n",
       "  </tbody>\n",
       "</table>\n",
       "</div>"
      ],
      "text/plain": [
       "   index falha\n",
       "0  10083    ok\n",
       "1   9914    ok\n",
       "2   9961    ok\n",
       "3   9991    ok\n",
       "4  10114    ok"
      ]
     },
     "execution_count": 40,
     "metadata": {},
     "output_type": "execute_result"
    }
   ],
   "source": [
    "df_sub=pd.concat([test['index'],pd.Series(Y_pred, name='falha')], axis=1)\n",
    "df_sub.head()"
   ]
  },
  {
   "cell_type": "code",
   "execution_count": 41,
   "metadata": {},
   "outputs": [],
   "source": [
    "df_sub.to_csv('submissao.csv', index=False)"
   ]
  },
  {
   "cell_type": "code",
   "execution_count": null,
   "metadata": {},
   "outputs": [],
   "source": [
    "### Saving grid search results to pickles (just choose the model !)\n",
    "with open('model.pickle', 'wb') as model:\n",
    "    pickle.dump(gs, model)"
   ]
  }
 ],
 "metadata": {
  "kernelspec": {
   "display_name": "Python 3",
   "language": "python",
   "name": "python3"
  },
  "language_info": {
   "codemirror_mode": {
    "name": "ipython",
    "version": 3
   },
   "file_extension": ".py",
   "mimetype": "text/x-python",
   "name": "python",
   "nbconvert_exporter": "python",
   "pygments_lexer": "ipython3",
   "version": "3.5.2"
  }
 },
 "nbformat": 4,
 "nbformat_minor": 2
}
